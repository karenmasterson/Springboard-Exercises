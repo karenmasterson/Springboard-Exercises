{
 "cells": [
  {
   "cell_type": "markdown",
   "metadata": {},
   "source": [
    "# XML example and exercise\n",
    "****\n",
    "+ study examples of accessing nodes in XML tree structure  \n",
    "+ work on exercise to be completed and submitted\n",
    "****\n",
    "+ reference: https://docs.python.org/2.7/library/xml.etree.elementtree.html\n",
    "+ data source: http://www.dbis.informatik.uni-goettingen.de/Mondial\n",
    "****"
   ]
  },
  {
   "cell_type": "code",
   "execution_count": null,
   "metadata": {
    "collapsed": true
   },
   "outputs": [],
   "source": []
  },
  {
   "cell_type": "code",
   "execution_count": 1,
   "metadata": {
    "collapsed": true
   },
   "outputs": [],
   "source": [
    "from xml.etree import ElementTree as ET"
   ]
  },
  {
   "cell_type": "markdown",
   "metadata": {},
   "source": [
    "## XML example\n",
    "\n",
    "+ for details about tree traversal and iterators, see https://docs.python.org/2.7/library/xml.etree.elementtree.html"
   ]
  },
  {
   "cell_type": "code",
   "execution_count": 2,
   "metadata": {
    "collapsed": false
   },
   "outputs": [],
   "source": [
    "document_tree = ET.parse( 'data/mondial_database_less.xml' )"
   ]
  },
  {
   "cell_type": "code",
   "execution_count": 3,
   "metadata": {
    "collapsed": false
   },
   "outputs": [
    {
     "name": "stdout",
     "output_type": "stream",
     "text": [
      "Albania\n",
      "Greece\n",
      "Macedonia\n",
      "Serbia\n",
      "Montenegro\n",
      "Kosovo\n",
      "Andorra\n"
     ]
    }
   ],
   "source": [
    "# print names of all countries\n",
    "for child in document_tree.getroot():\n",
    "    print(child.find('name').text)"
   ]
  },
  {
   "cell_type": "code",
   "execution_count": 4,
   "metadata": {
    "collapsed": false
   },
   "outputs": [
    {
     "name": "stdout",
     "output_type": "stream",
     "text": [
      "* Albania:\n",
      "Tirana, Shkodër, Durrës, Vlorë, Elbasan, Korçë\n",
      "* Greece:\n",
      "Komotini, Kavala, Athina, Peiraias, Peristeri, Acharnes, Patra, Kozani, Kerkyra, Ioannina, Thessaloniki, Iraklio, Chania, Ermoupoli, Rhodes, Tripoli, Lamia, Chalkida, Larissa, Volos, Mytilini, Karyes\n",
      "* Macedonia:\n",
      "Skopje, Kumanovo\n",
      "* Serbia:\n",
      "Beograd, Novi Sad, Niš\n",
      "* Montenegro:\n",
      "Podgorica\n",
      "* Kosovo:\n",
      "Prishtine\n",
      "* Andorra:\n",
      "Andorra la Vella\n"
     ]
    }
   ],
   "source": [
    "# print names of all countries and their cities\n",
    "#Python 3 print(child.find('name').text)\" instead of \"print child.find('name').text\n",
    "for element in document_tree.iterfind('country'):\n",
    "    print('* ' + element.find('name').text + ':',)\n",
    "    capitals_string = ''\n",
    "    for subelement in element.getiterator('city'):\n",
    "        capitals_string += subelement.find('name').text + ', '\n",
    "    print(capitals_string[:-2])"
   ]
  },
  {
   "cell_type": "markdown",
   "metadata": {},
   "source": [
    "****\n",
    "## XML exercise\n",
    "\n",
    "Using data in 'data/mondial_database.xml', the examples above, and refering to https://docs.python.org/2.7/library/xml.etree.elementtree.html, find\n",
    "\n",
    "1. 10 countries with the lowest infant mortality rates\n",
    "2. 10 cities with the largest population\n",
    "3. 10 ethnic groups with the largest overall populations (sum of best/latest estimates over all countries)\n",
    "4. name and country of a) longest river, b) largest lake and c) airport at highest elevation"
   ]
  },
  {
   "cell_type": "code",
   "execution_count": 5,
   "metadata": {
    "collapsed": true
   },
   "outputs": [],
   "source": [
    "import pandas as pd\n",
    "import numpy as np"
   ]
  },
  {
   "cell_type": "code",
   "execution_count": 6,
   "metadata": {
    "collapsed": true
   },
   "outputs": [],
   "source": [
    "document = ET.parse( './data/mondial_database.xml' )"
   ]
  },
  {
   "cell_type": "code",
   "execution_count": 7,
   "metadata": {
    "collapsed": false
   },
   "outputs": [
    {
     "data": {
      "text/plain": [
       "[('Western Sahara', 145.82),\n",
       " ('Afghanistan', 117.23),\n",
       " ('Mali', 104.34),\n",
       " ('Somalia', 100.14),\n",
       " ('Central African Republic', 92.86),\n",
       " ('Guinea-Bissau', 90.92),\n",
       " ('Chad', 90.3),\n",
       " ('Niger', 86.27),\n",
       " ('Angola', 79.99),\n",
       " ('Burkina Faso', 76.8)]"
      ]
     },
     "execution_count": 7,
     "metadata": {},
     "output_type": "execute_result"
    }
   ],
   "source": [
    "root = document.getroot()\n",
    "country_list = [country for country in root.findall('country')]\n",
    "mortality_list = []\n",
    "for country in country_list:\n",
    "    name = country.findtext('name')\n",
    "    mortality = country.findtext('infant_mortality')\n",
    "    if mortality == None:\n",
    "        mortality = '0'\n",
    "    mortality_list.append((name, float(mortality)))\n",
    "\n",
    "sorted(mortality_list, key=lambda x:x[1], reverse=True)[0:10]\n"
   ]
  },
  {
   "cell_type": "code",
   "execution_count": 8,
   "metadata": {
    "collapsed": false
   },
   "outputs": [
    {
     "data": {
      "text/plain": [
       "[('Seoul', 10229262),\n",
       " ('Hong Kong', 7055071),\n",
       " ('Al Qahirah', 6053000),\n",
       " ('Bangkok', 5876000),\n",
       " ('Ho Chi Minh', 3924435),\n",
       " ('Busan', 3813814),\n",
       " ('New Taipei', 3722082),\n",
       " ('Hanoi', 3056146),\n",
       " ('Al Iskandariyah', 2917000),\n",
       " ('Taipei', 2626138)]"
      ]
     },
     "execution_count": 8,
     "metadata": {},
     "output_type": "execute_result"
    }
   ],
   "source": [
    "citypop_list = []\n",
    "for country in country_list:\n",
    "    city_list = [city for city in country.findall('city')]\n",
    "    for city in city_list:\n",
    "        citypop = city.findtext('population')\n",
    "        if citypop == None:\n",
    "            citypop = '0'\n",
    "        citypop_list.append((city.findtext('name'), int(citypop)))\n",
    "        \n",
    "sorted(citypop_list, key=lambda x:x[1], reverse=True)[0:10]"
   ]
  },
  {
   "cell_type": "markdown",
   "metadata": {
    "collapsed": true
   },
   "source": [
    "#question 3: 10 ethnic groups with the largest overall populations (sum of best/latest estimates over all countries)"
   ]
  },
  {
   "cell_type": "code",
   "execution_count": 9,
   "metadata": {
    "collapsed": false
   },
   "outputs": [
    {
     "data": {
      "text/plain": [
       "Ethnic Group\n",
       "Han Chinese    1.245059e+09\n",
       "Indo-Aryan     8.718156e+08\n",
       "European       4.948722e+08\n",
       "African        3.183251e+08\n",
       "Dravidian      3.027137e+08\n",
       "Mestizo        1.577344e+08\n",
       "Bengali        1.467769e+08\n",
       "Russian        1.318570e+08\n",
       "Japanese       1.265342e+08\n",
       "Malay          1.219936e+08\n",
       "Name: Ethnic Group Population, dtype: float64"
      ]
     },
     "execution_count": 9,
     "metadata": {},
     "output_type": "execute_result"
    }
   ],
   "source": [
    "ethnicgps=[]\n",
    "allpops=[]\n",
    "# \n",
    "for elem in document.iterfind('country'):\n",
    "    country = elem.find('name').text\n",
    "    pop=elem.find('population')\n",
    "\n",
    "#This will find Ethnic group and % of Ethnic group in a given country\n",
    "    for e in elem.iterfind('ethnicgroup'):\n",
    "        group= e.text\n",
    "        percents = float(e.attrib['percentage'])\n",
    "\n",
    "# Country, ethnic group and its percentage saved in ethnicgps list        \n",
    "        ethnicgps.append([country,group,percents]) \n",
    "    \n",
    "# This will return year and population present in a given country\n",
    "    for y in elem.iterfind('population'):\n",
    "        year=int(y.attrib['year'])\n",
    "        pop=int(y.text)\n",
    "\n",
    "# country name, year and population saved in allpops list\n",
    "        allpops.append([country, year, pop])\n",
    "\n",
    "\n",
    "#convert list to dataframe\n",
    "ethnicdf=pd.DataFrame(ethnicgps, columns=['Country', 'Ethnic Group', 'Percentage'])\n",
    "\n",
    "#allpops list converted to dataFrame popdf    \n",
    "popdf=pd.DataFrame(allpops, columns=['Country', 'Year', 'Population'])  \n",
    "\n",
    "#only the latest year on each country are extracted from popdf\n",
    "idx=popdf.groupby(['Country'])['Year'].transform(max)==popdf['Year']\n",
    "popdf=popdf[idx]\n",
    "\n",
    "#popdf and ethnicdf dataframe are merged on entries present on both. \n",
    "#Country columns present on both used to merge both DFs\n",
    "Etpop=popdf.merge(ethnicdf, how='inner')\n",
    "\n",
    "#Ethnicity percentage multiplied by population of the given country and saved in \"Ethnic Group Population\" column\n",
    "Etpop['Ethnic Group Population']=Etpop.Percentage/100*Etpop.Population\n",
    "\n",
    "#Sum of Each ethnic group is calculated and sorted from highest to lowest and returns only top 10 highest\n",
    "Etpop.groupby(['Ethnic Group'])['Ethnic Group Population'].sum().sort_values(ascending=False).head(10)"
   ]
  },
  {
   "cell_type": "markdown",
   "metadata": {
    "collapsed": true
   },
   "source": [
    "4. name and country of a) longest river, b) largest lake and c) airport at highest elevation"
   ]
  },
  {
   "cell_type": "markdown",
   "metadata": {},
   "source": [
    "4a: Longest River"
   ]
  },
  {
   "cell_type": "code",
   "execution_count": 10,
   "metadata": {
    "collapsed": false
   },
   "outputs": [
    {
     "data": {
      "text/html": [
       "<div>\n",
       "<table border=\"1\" class=\"dataframe\">\n",
       "  <thead>\n",
       "    <tr style=\"text-align: right;\">\n",
       "      <th></th>\n",
       "      <th>Country_Code</th>\n",
       "    </tr>\n",
       "    <tr>\n",
       "      <th>Country</th>\n",
       "      <th></th>\n",
       "    </tr>\n",
       "  </thead>\n",
       "  <tbody>\n",
       "    <tr>\n",
       "      <th>Albania</th>\n",
       "      <td>AL</td>\n",
       "    </tr>\n",
       "    <tr>\n",
       "      <th>Greece</th>\n",
       "      <td>GR</td>\n",
       "    </tr>\n",
       "    <tr>\n",
       "      <th>Macedonia</th>\n",
       "      <td>MK</td>\n",
       "    </tr>\n",
       "    <tr>\n",
       "      <th>Serbia</th>\n",
       "      <td>SRB</td>\n",
       "    </tr>\n",
       "    <tr>\n",
       "      <th>Montenegro</th>\n",
       "      <td>MNE</td>\n",
       "    </tr>\n",
       "    <tr>\n",
       "      <th>Kosovo</th>\n",
       "      <td>KOS</td>\n",
       "    </tr>\n",
       "    <tr>\n",
       "      <th>Andorra</th>\n",
       "      <td>AND</td>\n",
       "    </tr>\n",
       "    <tr>\n",
       "      <th>France</th>\n",
       "      <td>F</td>\n",
       "    </tr>\n",
       "    <tr>\n",
       "      <th>Spain</th>\n",
       "      <td>E</td>\n",
       "    </tr>\n",
       "    <tr>\n",
       "      <th>Austria</th>\n",
       "      <td>A</td>\n",
       "    </tr>\n",
       "    <tr>\n",
       "      <th>Czech Republic</th>\n",
       "      <td>CZ</td>\n",
       "    </tr>\n",
       "    <tr>\n",
       "      <th>Germany</th>\n",
       "      <td>D</td>\n",
       "    </tr>\n",
       "    <tr>\n",
       "      <th>Hungary</th>\n",
       "      <td>H</td>\n",
       "    </tr>\n",
       "    <tr>\n",
       "      <th>Italy</th>\n",
       "      <td>I</td>\n",
       "    </tr>\n",
       "    <tr>\n",
       "      <th>Liechtenstein</th>\n",
       "      <td>FL</td>\n",
       "    </tr>\n",
       "    <tr>\n",
       "      <th>Slovakia</th>\n",
       "      <td>SK</td>\n",
       "    </tr>\n",
       "    <tr>\n",
       "      <th>Slovenia</th>\n",
       "      <td>SLO</td>\n",
       "    </tr>\n",
       "    <tr>\n",
       "      <th>Switzerland</th>\n",
       "      <td>CH</td>\n",
       "    </tr>\n",
       "    <tr>\n",
       "      <th>Belarus</th>\n",
       "      <td>BY</td>\n",
       "    </tr>\n",
       "    <tr>\n",
       "      <th>Latvia</th>\n",
       "      <td>LV</td>\n",
       "    </tr>\n",
       "    <tr>\n",
       "      <th>Lithuania</th>\n",
       "      <td>LT</td>\n",
       "    </tr>\n",
       "    <tr>\n",
       "      <th>Poland</th>\n",
       "      <td>PL</td>\n",
       "    </tr>\n",
       "    <tr>\n",
       "      <th>Ukraine</th>\n",
       "      <td>UA</td>\n",
       "    </tr>\n",
       "    <tr>\n",
       "      <th>Russia</th>\n",
       "      <td>R</td>\n",
       "    </tr>\n",
       "    <tr>\n",
       "      <th>Belgium</th>\n",
       "      <td>B</td>\n",
       "    </tr>\n",
       "    <tr>\n",
       "      <th>Luxembourg</th>\n",
       "      <td>L</td>\n",
       "    </tr>\n",
       "    <tr>\n",
       "      <th>Netherlands</th>\n",
       "      <td>NL</td>\n",
       "    </tr>\n",
       "    <tr>\n",
       "      <th>Bosnia and Herzegovina</th>\n",
       "      <td>BIH</td>\n",
       "    </tr>\n",
       "    <tr>\n",
       "      <th>Croatia</th>\n",
       "      <td>HR</td>\n",
       "    </tr>\n",
       "    <tr>\n",
       "      <th>Bulgaria</th>\n",
       "      <td>BG</td>\n",
       "    </tr>\n",
       "    <tr>\n",
       "      <th>...</th>\n",
       "      <td>...</td>\n",
       "    </tr>\n",
       "    <tr>\n",
       "      <th>Chad</th>\n",
       "      <td>TCH</td>\n",
       "    </tr>\n",
       "    <tr>\n",
       "      <th>Equatorial Guinea</th>\n",
       "      <td>GQ</td>\n",
       "    </tr>\n",
       "    <tr>\n",
       "      <th>Gabon</th>\n",
       "      <td>G</td>\n",
       "    </tr>\n",
       "    <tr>\n",
       "      <th>Cape Verde</th>\n",
       "      <td>CV</td>\n",
       "    </tr>\n",
       "    <tr>\n",
       "      <th>Sudan</th>\n",
       "      <td>SUD</td>\n",
       "    </tr>\n",
       "    <tr>\n",
       "      <th>South Sudan</th>\n",
       "      <td>SSD</td>\n",
       "    </tr>\n",
       "    <tr>\n",
       "      <th>Comoros</th>\n",
       "      <td>COM</td>\n",
       "    </tr>\n",
       "    <tr>\n",
       "      <th>Guinea</th>\n",
       "      <td>RG</td>\n",
       "    </tr>\n",
       "    <tr>\n",
       "      <th>Liberia</th>\n",
       "      <td>LB</td>\n",
       "    </tr>\n",
       "    <tr>\n",
       "      <th>Djibouti</th>\n",
       "      <td>DJI</td>\n",
       "    </tr>\n",
       "    <tr>\n",
       "      <th>Eritrea</th>\n",
       "      <td>ER</td>\n",
       "    </tr>\n",
       "    <tr>\n",
       "      <th>Ethiopia</th>\n",
       "      <td>ETH</td>\n",
       "    </tr>\n",
       "    <tr>\n",
       "      <th>Somalia</th>\n",
       "      <td>SP</td>\n",
       "    </tr>\n",
       "    <tr>\n",
       "      <th>Kenya</th>\n",
       "      <td>EAK</td>\n",
       "    </tr>\n",
       "    <tr>\n",
       "      <th>Gambia</th>\n",
       "      <td>WAG</td>\n",
       "    </tr>\n",
       "    <tr>\n",
       "      <th>Senegal</th>\n",
       "      <td>SN</td>\n",
       "    </tr>\n",
       "    <tr>\n",
       "      <th>Guinea-Bissau</th>\n",
       "      <td>GNB</td>\n",
       "    </tr>\n",
       "    <tr>\n",
       "      <th>Sierra Leone</th>\n",
       "      <td>WAL</td>\n",
       "    </tr>\n",
       "    <tr>\n",
       "      <th>Uganda</th>\n",
       "      <td>EAU</td>\n",
       "    </tr>\n",
       "    <tr>\n",
       "      <th>Lesotho</th>\n",
       "      <td>LS</td>\n",
       "    </tr>\n",
       "    <tr>\n",
       "      <th>Madagascar</th>\n",
       "      <td>RM</td>\n",
       "    </tr>\n",
       "    <tr>\n",
       "      <th>Malawi</th>\n",
       "      <td>MW</td>\n",
       "    </tr>\n",
       "    <tr>\n",
       "      <th>Mozambique</th>\n",
       "      <td>MOC</td>\n",
       "    </tr>\n",
       "    <tr>\n",
       "      <th>Mauritius</th>\n",
       "      <td>MS</td>\n",
       "    </tr>\n",
       "    <tr>\n",
       "      <th>Mayotte</th>\n",
       "      <td>MAYO</td>\n",
       "    </tr>\n",
       "    <tr>\n",
       "      <th>Swaziland</th>\n",
       "      <td>SD</td>\n",
       "    </tr>\n",
       "    <tr>\n",
       "      <th>Reunion</th>\n",
       "      <td>REUN</td>\n",
       "    </tr>\n",
       "    <tr>\n",
       "      <th>Saint Helena</th>\n",
       "      <td>HELX</td>\n",
       "    </tr>\n",
       "    <tr>\n",
       "      <th>Sao Tome and Principe</th>\n",
       "      <td>STP</td>\n",
       "    </tr>\n",
       "    <tr>\n",
       "      <th>Seychelles</th>\n",
       "      <td>SY</td>\n",
       "    </tr>\n",
       "  </tbody>\n",
       "</table>\n",
       "<p>244 rows × 1 columns</p>\n",
       "</div>"
      ],
      "text/plain": [
       "                       Country_Code\n",
       "Country                            \n",
       "Albania                          AL\n",
       "Greece                           GR\n",
       "Macedonia                        MK\n",
       "Serbia                          SRB\n",
       "Montenegro                      MNE\n",
       "Kosovo                          KOS\n",
       "Andorra                         AND\n",
       "France                            F\n",
       "Spain                             E\n",
       "Austria                           A\n",
       "Czech Republic                   CZ\n",
       "Germany                           D\n",
       "Hungary                           H\n",
       "Italy                             I\n",
       "Liechtenstein                    FL\n",
       "Slovakia                         SK\n",
       "Slovenia                        SLO\n",
       "Switzerland                      CH\n",
       "Belarus                          BY\n",
       "Latvia                           LV\n",
       "Lithuania                        LT\n",
       "Poland                           PL\n",
       "Ukraine                          UA\n",
       "Russia                            R\n",
       "Belgium                           B\n",
       "Luxembourg                        L\n",
       "Netherlands                      NL\n",
       "Bosnia and Herzegovina          BIH\n",
       "Croatia                          HR\n",
       "Bulgaria                         BG\n",
       "...                             ...\n",
       "Chad                            TCH\n",
       "Equatorial Guinea                GQ\n",
       "Gabon                             G\n",
       "Cape Verde                       CV\n",
       "Sudan                           SUD\n",
       "South Sudan                     SSD\n",
       "Comoros                         COM\n",
       "Guinea                           RG\n",
       "Liberia                          LB\n",
       "Djibouti                        DJI\n",
       "Eritrea                          ER\n",
       "Ethiopia                        ETH\n",
       "Somalia                          SP\n",
       "Kenya                           EAK\n",
       "Gambia                          WAG\n",
       "Senegal                          SN\n",
       "Guinea-Bissau                   GNB\n",
       "Sierra Leone                    WAL\n",
       "Uganda                          EAU\n",
       "Lesotho                          LS\n",
       "Madagascar                       RM\n",
       "Malawi                           MW\n",
       "Mozambique                      MOC\n",
       "Mauritius                        MS\n",
       "Mayotte                        MAYO\n",
       "Swaziland                        SD\n",
       "Reunion                        REUN\n",
       "Saint Helena                   HELX\n",
       "Sao Tome and Principe           STP\n",
       "Seychelles                       SY\n",
       "\n",
       "[244 rows x 1 columns]"
      ]
     },
     "execution_count": 10,
     "metadata": {},
     "output_type": "execute_result"
    }
   ],
   "source": [
    "country_code=[]\n",
    "for elem in document.iterfind('country'):\n",
    "    country_name=elem.find('name').text\n",
    "    code=elem.attrib['car_code']\n",
    "    country_code.append([country_name, code])\n",
    "dfcountry_code=pd.DataFrame(country_code, columns=['Country', 'Country_Code'])\n",
    "dfcountry_code.set_index('Country')"
   ]
  },
  {
   "cell_type": "markdown",
   "metadata": {},
   "source": []
  },
  {
   "cell_type": "code",
   "execution_count": 11,
   "metadata": {
    "collapsed": false
   },
   "outputs": [
    {
     "data": {
      "text/html": [
       "<div>\n",
       "<table border=\"1\" class=\"dataframe\">\n",
       "  <thead>\n",
       "    <tr style=\"text-align: right;\">\n",
       "      <th></th>\n",
       "      <th>Country_Code</th>\n",
       "      <th>River_Name</th>\n",
       "      <th>Length</th>\n",
       "    </tr>\n",
       "  </thead>\n",
       "  <tbody>\n",
       "    <tr>\n",
       "      <th>174</th>\n",
       "      <td>CO BR PE</td>\n",
       "      <td>Amazonas</td>\n",
       "      <td>6448.0</td>\n",
       "    </tr>\n",
       "  </tbody>\n",
       "</table>\n",
       "</div>"
      ],
      "text/plain": [
       "    Country_Code River_Name  Length\n",
       "174     CO BR PE   Amazonas  6448.0"
      ]
     },
     "execution_count": 11,
     "metadata": {},
     "output_type": "execute_result"
    }
   ],
   "source": [
    "river_list=[]\n",
    "#list name of river, length of river, and country of river   \n",
    "for river in document.iterfind('river'):\n",
    "    river_name=river.find('name').text\n",
    "    river_length=river.find('length')\n",
    "    country=river.attrib['country']\n",
    "\n",
    "# get river length\n",
    "    if river_length !=None:\n",
    "        river_length=river.find('length').text\n",
    "\n",
    "#append country, name, and length to list        \n",
    "    river_list.append([country, river_name, river_length])\n",
    "    \n",
    "#convert list to df\n",
    "dfriver=pd.DataFrame(river_list, columns=['Country_Code', 'River_Name', 'Length'])\n",
    "\n",
    "#convert length to numeric\n",
    "dfriver['Length']=pd.to_numeric(dfriver.Length)\n",
    "\n",
    "#sort rivers by lengths and print longest one\n",
    "Longest=dfriver.sort_values(by='Length', ascending=False).head(1)\n",
    "Longest"
   ]
  },
  {
   "cell_type": "markdown",
   "metadata": {},
   "source": [
    "Largest Lake"
   ]
  },
  {
   "cell_type": "code",
   "execution_count": 12,
   "metadata": {
    "collapsed": false
   },
   "outputs": [
    {
     "data": {
      "text/html": [
       "<div>\n",
       "<table border=\"1\" class=\"dataframe\">\n",
       "  <thead>\n",
       "    <tr style=\"text-align: right;\">\n",
       "      <th></th>\n",
       "      <th>Country_Code</th>\n",
       "      <th>Lake_Name</th>\n",
       "      <th>Area</th>\n",
       "    </tr>\n",
       "  </thead>\n",
       "  <tbody>\n",
       "    <tr>\n",
       "      <th>54</th>\n",
       "      <td>R AZ KAZ IR TM</td>\n",
       "      <td>Caspian Sea</td>\n",
       "      <td>386400.0</td>\n",
       "    </tr>\n",
       "  </tbody>\n",
       "</table>\n",
       "</div>"
      ],
      "text/plain": [
       "      Country_Code    Lake_Name      Area\n",
       "54  R AZ KAZ IR TM  Caspian Sea  386400.0"
      ]
     },
     "execution_count": 12,
     "metadata": {},
     "output_type": "execute_result"
    }
   ],
   "source": [
    "lake_list=[]\n",
    "\n",
    "#This will find lake name area and country location \n",
    "for lake in document.iterfind('lake'):\n",
    "    lake_name=lake.find('name').text\n",
    "    lake_area=lake.find('area')\n",
    "    cn=lake.attrib['country']\n",
    "\n",
    "# This will extract lake area on available entries\n",
    "    if lake_area !=None:\n",
    "        lake_area=lake.find('area').text\n",
    "        \n",
    "#country name, lake name and lake area saved on lake_list        \n",
    "    lake_list.append([cn, lake_name, lake_area])\n",
    "\n",
    "#lake_list converted to DataFrame dflake\n",
    "dflake=pd.DataFrame(lake_list, columns=['Country_Code', 'Lake_Name', 'Area'])\n",
    "\n",
    "# Area column converted to numeric \n",
    "dflake['Area']=pd.to_numeric(dflake.Area)\n",
    "\n",
    "#DataFrame sorted from highest ot lowest and returns top 1\n",
    "lgst=dflake.sort_values(by='Area', ascending=False).head(1)\n",
    "lgst"
   ]
  },
  {
   "cell_type": "markdown",
   "metadata": {},
   "source": [
    "4d: Highest Elevation Airport"
   ]
  },
  {
   "cell_type": "code",
   "execution_count": 13,
   "metadata": {
    "collapsed": false
   },
   "outputs": [
    {
     "data": {
      "text/html": [
       "<div>\n",
       "<table border=\"1\" class=\"dataframe\">\n",
       "  <thead>\n",
       "    <tr style=\"text-align: right;\">\n",
       "      <th></th>\n",
       "      <th>Country_Code</th>\n",
       "      <th>Airport_Name</th>\n",
       "      <th>Elevation</th>\n",
       "      <th>Country</th>\n",
       "    </tr>\n",
       "  </thead>\n",
       "  <tbody>\n",
       "    <tr>\n",
       "      <th>0</th>\n",
       "      <td>BOL</td>\n",
       "      <td>El Alto Intl</td>\n",
       "      <td>4063.0</td>\n",
       "      <td>Bolivia</td>\n",
       "    </tr>\n",
       "  </tbody>\n",
       "</table>\n",
       "</div>"
      ],
      "text/plain": [
       "  Country_Code  Airport_Name  Elevation  Country\n",
       "0          BOL  El Alto Intl     4063.0  Bolivia"
      ]
     },
     "execution_count": 13,
     "metadata": {},
     "output_type": "execute_result"
    }
   ],
   "source": [
    "airport_list=[]\n",
    "# find airport name, elevation and country code\n",
    "for airport in document.iterfind('airport'):\n",
    "    airport_name=airport.find('name').text\n",
    "    elevation=airport.find('elevation')\n",
    "    cn=airport.attrib['country']\n",
    "    \n",
    "# find elevation\n",
    "    if elevation !=None:\n",
    "        elevation=airport.find('elevation').text\n",
    "\n",
    "#append to list\n",
    "    airport_list.append([cn, airport_name, elevation])\n",
    "    \n",
    "#convert list to df\n",
    "dfairport=pd.DataFrame(airport_list, columns=['Country_Code', 'Airport_Name', 'Elevation'])\n",
    "\n",
    "#convert elevation to numeric\n",
    "dfairport['Elevation']=pd.to_numeric(dfairport.Elevation)\n",
    "\n",
    "#sort by elevation and print highest elevation\n",
    "dfairport.sort_values(by='Elevation', ascending=False).head(1).merge(dfcountry_code, how='inner')"
   ]
  },
  {
   "cell_type": "code",
   "execution_count": null,
   "metadata": {
    "collapsed": true
   },
   "outputs": [],
   "source": []
  }
 ],
 "metadata": {
  "kernelspec": {
   "display_name": "Python 3",
   "language": "python",
   "name": "python3"
  },
  "language_info": {
   "codemirror_mode": {
    "name": "ipython",
    "version": 3
   },
   "file_extension": ".py",
   "mimetype": "text/x-python",
   "name": "python",
   "nbconvert_exporter": "python",
   "pygments_lexer": "ipython3",
   "version": "3.6.0"
  }
 },
 "nbformat": 4,
 "nbformat_minor": 0
}
