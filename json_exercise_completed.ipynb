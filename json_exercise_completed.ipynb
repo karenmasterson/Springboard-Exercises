{
 "cells": [
  {
   "cell_type": "markdown",
   "metadata": {},
   "source": [
    "# JSON examples and exercise\n",
    "****\n",
    "+ get familiar with packages for dealing with JSON\n",
    "+ study examples with JSON strings and files \n",
    "+ work on exercise to be completed and submitted \n",
    "****\n",
    "+ reference: http://pandas.pydata.org/pandas-docs/stable/io.html#io-json-reader\n",
    "+ data source: http://jsonstudio.com/resources/\n",
    "****"
   ]
  },
  {
   "cell_type": "code",
   "execution_count": 1,
   "metadata": {
    "collapsed": true
   },
   "outputs": [],
   "source": [
    "import pandas as pd"
   ]
  },
  {
   "cell_type": "markdown",
   "metadata": {},
   "source": [
    "## imports for Python, Pandas"
   ]
  },
  {
   "cell_type": "code",
   "execution_count": 2,
   "metadata": {
    "collapsed": true
   },
   "outputs": [],
   "source": [
    "import json\n",
    "from pandas.io.json import json_normalize"
   ]
  },
  {
   "cell_type": "markdown",
   "metadata": {},
   "source": [
    "****\n",
    "## JSON exercise\n",
    "\n",
    "Using data in file 'data/world_bank_projects.json' and the techniques demonstrated above,\n",
    "1. Find the 10 countries with most projects\n",
    "2. Find the top 10 major project themes (using column 'mjtheme_namecode')\n",
    "3. In 2. above you will notice that some entries have only the code and the name is missing. Create a dataframe with the missing names filled in."
   ]
  },
  {
   "cell_type": "markdown",
   "metadata": {},
   "source": [
    "Question 1: Find top 10 countries with most projects"
   ]
  },
  {
   "cell_type": "code",
   "execution_count": 3,
   "metadata": {
    "collapsed": false
   },
   "outputs": [
    {
     "data": {
      "text/plain": [
       "Indonesia             19\n",
       "China                 19\n",
       "Vietnam               17\n",
       "India                 16\n",
       "Yemen, Republic of    13\n",
       "Bangladesh            12\n",
       "Morocco               12\n",
       "Nepal                 12\n",
       "Mozambique            11\n",
       "Africa                11\n",
       "Name: countryshortname, dtype: int64"
      ]
     },
     "execution_count": 3,
     "metadata": {},
     "output_type": "execute_result"
    }
   ],
   "source": [
    "json_df=pd.read_json('world_bank_projects.json')  #reads the json data and saves to df\n",
    "countprojs=json_df.countryshortname.value_counts()          #returns a list of country with most projects to least\n",
    "countprojs.head(10)                                      #list only top 10 countries w/ most projects\n",
    "\n"
   ]
  },
  {
   "cell_type": "markdown",
   "metadata": {},
   "source": [
    "Question 2: Top 10 major project themes "
   ]
  },
  {
   "cell_type": "code",
   "execution_count": 4,
   "metadata": {
    "collapsed": false
   },
   "outputs": [
    {
     "data": {
      "text/html": [
       "<div>\n",
       "<table border=\"1\" class=\"dataframe\">\n",
       "  <thead>\n",
       "    <tr style=\"text-align: right;\">\n",
       "      <th></th>\n",
       "      <th>code</th>\n",
       "      <th>name</th>\n",
       "    </tr>\n",
       "  </thead>\n",
       "  <tbody>\n",
       "    <tr>\n",
       "      <th>0</th>\n",
       "      <td>8</td>\n",
       "      <td>Human development</td>\n",
       "    </tr>\n",
       "    <tr>\n",
       "      <th>1</th>\n",
       "      <td>11</td>\n",
       "      <td></td>\n",
       "    </tr>\n",
       "    <tr>\n",
       "      <th>2</th>\n",
       "      <td>1</td>\n",
       "      <td>Economic management</td>\n",
       "    </tr>\n",
       "    <tr>\n",
       "      <th>3</th>\n",
       "      <td>6</td>\n",
       "      <td>Social protection and risk management</td>\n",
       "    </tr>\n",
       "    <tr>\n",
       "      <th>4</th>\n",
       "      <td>5</td>\n",
       "      <td>Trade and integration</td>\n",
       "    </tr>\n",
       "  </tbody>\n",
       "</table>\n",
       "</div>"
      ],
      "text/plain": [
       "  code                                   name\n",
       "0    8                      Human development\n",
       "1   11                                       \n",
       "2    1                    Economic management\n",
       "3    6  Social protection and risk management\n",
       "4    5                  Trade and integration"
      ]
     },
     "execution_count": 4,
     "metadata": {},
     "output_type": "execute_result"
    }
   ],
   "source": [
    "# Display Theme names and Theme codes\n",
    "themes = pd.DataFrame(columns=['code', 'name'])\n",
    "for row in json_df.mjtheme_namecode:\n",
    "    themes = themes.append(json_normalize(row))\n",
    "themes.reset_index(drop=True, inplace=True)\n",
    "\n",
    "themes.head()"
   ]
  },
  {
   "cell_type": "code",
   "execution_count": 5,
   "metadata": {
    "collapsed": false
   },
   "outputs": [
    {
     "name": "stdout",
     "output_type": "stream",
     "text": [
      "Top 10 project themes:\n"
     ]
    },
    {
     "data": {
      "text/plain": [
       "Environment and natural resources management    223\n",
       "Rural development                               202\n",
       "Human development                               197\n",
       "Public sector governance                        184\n",
       "Social protection and risk management           158\n",
       "Financial and private sector development        130\n",
       "                                                122\n",
       "Social dev/gender/inclusion                     119\n",
       "Trade and integration                            72\n",
       "Urban development                                47\n",
       "Name: name, dtype: int64"
      ]
     },
     "execution_count": 5,
     "metadata": {},
     "output_type": "execute_result"
    }
   ],
   "source": [
    "# Count the project themes and list the top 10\n",
    "theme_counts = themes.name.value_counts()\n",
    "print('Top 10 project themes:')\n",
    "theme_counts.head(10)"
   ]
  },
  {
   "cell_type": "markdown",
   "metadata": {},
   "source": [
    " Question 3: Fill in missing theme names"
   ]
  },
  {
   "cell_type": "code",
   "execution_count": 6,
   "metadata": {
    "collapsed": false
   },
   "outputs": [
    {
     "data": {
      "text/plain": [
       "{'1': 'Economic management',\n",
       " '10': 'Rural development',\n",
       " '11': 'Environment and natural resources management',\n",
       " '2': 'Public sector governance',\n",
       " '3': 'Rule of law',\n",
       " '4': 'Financial and private sector development',\n",
       " '5': 'Trade and integration',\n",
       " '6': 'Social protection and risk management',\n",
       " '7': 'Social dev/gender/inclusion',\n",
       " '8': 'Human development',\n",
       " '9': 'Urban development'}"
      ]
     },
     "execution_count": 6,
     "metadata": {},
     "output_type": "execute_result"
    }
   ],
   "source": [
    "# Create a themes dictionary to map theme codes to theme names and then display it\n",
    "themes_dict = {}\n",
    "\n",
    "for row in themes.itertuples():\n",
    "    if row[2] != '':\n",
    "        themes_dict[row[1]] = row[2]\n",
    "        \n",
    "themes_dict"
   ]
  },
  {
   "cell_type": "code",
   "execution_count": 7,
   "metadata": {
    "collapsed": false
   },
   "outputs": [
    {
     "name": "stdout",
     "output_type": "stream",
     "text": [
      "Missing themes: 0\n"
     ]
    }
   ],
   "source": [
    "# Fill in missing theme names using the themes dictionary\n",
    "for row in themes.itertuples():\n",
    "    if row[2] == '':\n",
    "        themes.set_value(row[0], 'name', themes_dict[row[1]])\n",
    "        \n",
    "# Are there any more missing themes?\n",
    "print('Missing themes:', len(themes[themes['name'] == '']))"
   ]
  },
  {
   "cell_type": "code",
   "execution_count": 8,
   "metadata": {
    "collapsed": false
   },
   "outputs": [
    {
     "name": "stdout",
     "output_type": "stream",
     "text": [
      "Missing themes added:\n"
     ]
    },
    {
     "data": {
      "text/plain": [
       "Environment and natural resources management    250\n",
       "Rural development                               216\n",
       "Human development                               210\n",
       "Public sector governance                        199\n",
       "Social protection and risk management           168\n",
       "Financial and private sector development        146\n",
       "Social dev/gender/inclusion                     130\n",
       "Trade and integration                            77\n",
       "Urban development                                50\n",
       "Economic management                              38\n",
       "Name: name, dtype: int64"
      ]
     },
     "execution_count": 8,
     "metadata": {},
     "output_type": "execute_result"
    }
   ],
   "source": [
    "# Display the major project themes with missing names\n",
    "print('Missing themes added:')\n",
    "themes.name.value_counts().head(10)"
   ]
  },
  {
   "cell_type": "code",
   "execution_count": null,
   "metadata": {
    "collapsed": true
   },
   "outputs": [],
   "source": []
  }
 ],
 "metadata": {
  "kernelspec": {
   "display_name": "Python 3",
   "language": "python",
   "name": "python3"
  },
  "language_info": {
   "codemirror_mode": {
    "name": "ipython",
    "version": 3
   },
   "file_extension": ".py",
   "mimetype": "text/x-python",
   "name": "python",
   "nbconvert_exporter": "python",
   "pygments_lexer": "ipython3",
   "version": "3.6.0"
  }
 },
 "nbformat": 4,
 "nbformat_minor": 0
}
